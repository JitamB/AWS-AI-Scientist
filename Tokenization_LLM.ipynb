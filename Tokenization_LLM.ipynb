{
 "cells": [
  {
   "cell_type": "markdown",
   "metadata": {
    "id": "BRQrM5VukeAK"
   },
   "source": [
    "<b>What is Tokenization in LLMs?</b></br>\n",
    "Tokenization is the process of breaking text into smaller units called tokens that a language model can process.\n",
    "\n",
    "A token can be a word, part of a word, character, or punctuation.\n",
    "\n",
    "LLMs convert these tokens into numbers (token IDs) to work with.\n",
    "\n",
    "Example:\n",
    "\n",
    "\"I love AI.\" → ```[\"I\", \" love\", \" AI\", \".\"]```</br>\n",
    "\n",
    "And their corresponding token IDs might be:\n",
    "\n",
    "```[40, 484, 1230, 13]```\n",
    "\n",
    "Most LLMs use subword tokenization (like Byte Pair Encoding) to efficiently handle both common and rare words.\n",
    "\n",
    "<b>Why it matters:</b>\n",
    "It controls how much text the model can handle at once (in tokens), affects speed, memory, and prompt pricing."
   ]
  },
  {
   "cell_type": "markdown",
   "metadata": {
    "id": "NafURxtfAO90"
   },
   "source": [
    "Tokenization - The sentence is broken into tokens. \"Alice\" is one token, while \"riverbank\" may be split into \"river\" and \"bank\"."
   ]
  },
  {
   "cell_type": "code",
   "execution_count": null,
   "metadata": {},
   "outputs": [
    {
     "data": {
      "application/vnd.jupyter.widget-view+json": {
       "model_id": "d20f6946278244829a6b7528030ce077",
       "version_major": 2,
       "version_minor": 0
      },
      "text/plain": [
       "tokenizer_config.json:   0%|          | 0.00/26.0 [00:00<?, ?B/s]"
      ]
     },
     "metadata": {},
     "output_type": "display_data"
    },
    {
     "data": {
      "application/vnd.jupyter.widget-view+json": {
       "model_id": "16e8027173eb4d2f85c1376366219913",
       "version_major": 2,
       "version_minor": 0
      },
      "text/plain": [
       "config.json:   0%|          | 0.00/665 [00:00<?, ?B/s]"
      ]
     },
     "metadata": {},
     "output_type": "display_data"
    },
    {
     "data": {
      "application/vnd.jupyter.widget-view+json": {
       "model_id": "d9b3785c14f4433c85e5d51195d4325a",
       "version_major": 2,
       "version_minor": 0
      },
      "text/plain": [
       "vocab.json: 0.00B [00:00, ?B/s]"
      ]
     },
     "metadata": {},
     "output_type": "display_data"
    },
    {
     "data": {
      "application/vnd.jupyter.widget-view+json": {
       "model_id": "5a07eac255804bb69c2d1ac94c9a2591",
       "version_major": 2,
       "version_minor": 0
      },
      "text/plain": [
       "merges.txt: 0.00B [00:00, ?B/s]"
      ]
     },
     "metadata": {},
     "output_type": "display_data"
    },
    {
     "data": {
      "application/vnd.jupyter.widget-view+json": {
       "model_id": "8dee1fc4b43d4d478071b010fd43212b",
       "version_major": 2,
       "version_minor": 0
      },
      "text/plain": [
       "tokenizer.json: 0.00B [00:00, ?B/s]"
      ]
     },
     "metadata": {},
     "output_type": "display_data"
    }
   ],
   "source": [
    "# Tokenization using Hugging Face's Transformers\n",
    "from transformers import AutoTokenizer\n",
    "tokenizer = AutoTokenizer.from_pretrained(\"openai-community/gpt2\")\n",
    "tokens = tokenizer.tokenize(\"A young girl named Alice sits bored by a riverbank...\")"
   ]
  },
  {
   "cell_type": "markdown",
   "metadata": {
    "id": "VAKN6Q2vASVY"
   },
   "source": [
    "Embedding - Tokens are transformed into numerical vectors. For example, \"Alice\" becomes a vector like [-0.342, 1.547, 0.234, -1.876, 0.765]."
   ]
  },
  {
   "cell_type": "code",
   "execution_count": null,
   "metadata": {},
   "outputs": [
    {
     "data": {
      "application/vnd.jupyter.widget-view+json": {
       "model_id": "8b8d33eec1c94d0c88ea266b39363a4d",
       "version_major": 2,
       "version_minor": 0
      },
      "text/plain": [
       "model.safetensors:   0%|          | 0.00/548M [00:00<?, ?B/s]"
      ]
     },
     "metadata": {},
     "output_type": "display_data"
    }
   ],
   "source": [
    "# Embedding and Processing with a Transformer Model\n",
    "from transformers import AutoModel\n",
    "model = AutoModel.from_pretrained(\"openai-community/gpt2\")\n",
    "inputs = tokenizer(\"A young girl named Alice sits bored by a riverbank...\", return_tensors=\"pt\")\n",
    "outputs = model(**inputs)\n",
    "last_hidden_states = outputs.last_hidden_state"
   ]
  },
  {
   "cell_type": "code",
   "execution_count": null,
   "metadata": {},
   "outputs": [
    {
     "data": {
      "image/png": "[encoded data removed]",
      "text/plain": [
       "<Figure size 640x480 with 2 Axes>"
      ]
     },
     "metadata": {},
     "output_type": "display_data"
    }
   ],
   "source": [
    "# Visualization of Embeddings (Simplified Example)\n",
    "import matplotlib.pyplot as plt\n",
    "plt.imshow(last_hidden_states.detach().numpy()[0], cmap='viridis')\n",
    "plt.colorbar()\n",
    "plt.show()"
   ]
  }
 ],
 "metadata": {
  "language_info": {
   "name": "python"
  }
 },
 "nbformat": 4,
 "nbformat_minor": 0
}
